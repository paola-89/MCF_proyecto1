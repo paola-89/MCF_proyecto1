{
  "nbformat": 4,
  "nbformat_minor": 0,
  "metadata": {
    "colab": {
      "provenance": [],
      "authorship_tag": "ABX9TyOG+/4KzVIQ2HiAfGDzTzHk",
      "include_colab_link": true
    },
    "kernelspec": {
      "name": "python3",
      "display_name": "Python 3"
    },
    "language_info": {
      "name": "python"
    }
  },
  "cells": [
    {
      "cell_type": "markdown",
      "metadata": {
        "id": "view-in-github",
        "colab_type": "text"
      },
      "source": [
        "<a href=\"https://colab.research.google.com/github/paola-89/MCF_proyecto1/blob/main/Ejercicio23.ipynb\" target=\"_parent\"><img src=\"https://colab.research.google.com/assets/colab-badge.svg\" alt=\"Open In Colab\"/></a>"
      ]
    },
    {
      "cell_type": "code",
      "execution_count": 1,
      "metadata": {
        "id": "6hmbq4H3ZfbT"
      },
      "outputs": [],
      "source": [
        "import numpy as np\n",
        "from numpy import linalg as LA"
      ]
    },
    {
      "cell_type": "code",
      "source": [
        "import numpy as np\n",
        "\n",
        "def SustitucionDelante(Mat, b):\n",
        "    \"\"\"\n",
        "    Realiza la sustitución hacia adelante para resolver un sistema de ecuaciones lineales\n",
        "    representado por una matriz triangular inferior.\n",
        "\n",
        "    Parámetros:\n",
        "    -----------\n",
        "    Mat : numpy.ndarray\n",
        "        Una matriz triangular inferior de tamaño n x n.\n",
        "    b : numpy.ndarray\n",
        "        Un vector de términos independientes de tamaño n.\n",
        "\n",
        "    Retorna:\n",
        "    --------\n",
        "    x : numpy.ndarray\n",
        "        Un vector solución de tamaño n que satisface la ecuación Mat @ x = b.\n",
        "\n",
        "    Descripción:\n",
        "    ------------\n",
        "    Esta función resuelve un sistema de ecuaciones lineales de la forma Mat @ x = b,\n",
        "    donde Mat es una matriz triangular inferior. Utiliza el método de sustitución hacia adelante,\n",
        "    comenzando desde la primera fila de la matriz y avanzando hacia la última.\n",
        "    \"\"\"\n",
        "    n = Mat.shape[0]\n",
        "    x = np.zeros(n)\n",
        "    Mat = np.tril(Mat)\n",
        "\n",
        "    for i in range(n):\n",
        "        SumCum = 0.0\n",
        "        for j in range(i):\n",
        "            SumCum += Mat[i, j] * x[j]\n",
        "        x[i] = (b[i] - SumCum) / Mat[i, i]\n",
        "\n",
        "    return x"
      ],
      "metadata": {
        "id": "ElVB9tqld2gh"
      },
      "execution_count": 2,
      "outputs": []
    },
    {
      "cell_type": "code",
      "source": [
        "def SustitucionAtras(Mat, b):\n",
        "    \"\"\"\n",
        "    Realiza la sustitución hacia atrás para resolver un sistema de ecuaciones lineales\n",
        "    representado por una matriz triangular superior.\n",
        "\n",
        "    Parámetros:\n",
        "    -----------\n",
        "    Mat : numpy.ndarray\n",
        "        Una matriz triangular superior de tamaño n x n.\n",
        "    b : numpy.ndarray\n",
        "        Un vector de términos independientes de tamaño n.\n",
        "\n",
        "    Retorna:\n",
        "    --------\n",
        "    x : numpy.ndarray\n",
        "        Un vector solución de tamaño n que satisface la ecuación Mat @ x = b.\n",
        "\n",
        "    Descripción:\n",
        "    ------------\n",
        "    Esta función resuelve un sistema de ecuaciones lineales de la forma Mat @ x = b,\n",
        "    donde Mat es una matriz triangular superior. Utiliza el método de sustitución hacia atrás,\n",
        "    comenzando desde la última fila de la matriz y avanzando hacia la primera.\n",
        "    \"\"\"\n",
        "    n = Mat.shape[0]\n",
        "    x = np.zeros(n)\n",
        "    Mat = np.triu(Mat)\n",
        "\n",
        "    for i in range(n-1, -1, -1):\n",
        "        SumCum = 0.0\n",
        "        for j in range(i+1, n):\n",
        "            SumCum += Mat[i, j] * x[j]\n",
        "        x[i] = (b[i] - SumCum) / Mat[i, i]\n",
        "\n",
        "    return x\n",
        ""
      ],
      "metadata": {
        "id": "2WyWXribLlDT"
      },
      "execution_count": 13,
      "outputs": []
    },
    {
      "cell_type": "code",
      "source": [
        "#Ejemplo\n",
        "matriz = np.array([[1.0, 2.0, 3.0],\n",
        "                   [4.0, 5.0, 6.0],\n",
        "                   [7.0, 8.0, 9.0]])\n",
        "b = [1,1,1]\n",
        "SustitucionDelante(matriz, b)\n",
        "SustitucionAtras(matriz, b)"
      ],
      "metadata": {
        "colab": {
          "base_uri": "https://localhost:8080/"
        },
        "id": "sl-56KDAF8Rm",
        "outputId": "ad844d70-6f00-4f0c-f6ad-c8d4b0c2e5db"
      },
      "execution_count": 14,
      "outputs": [
        {
          "output_type": "execute_result",
          "data": {
            "text/plain": [
              "array([0.53333333, 0.06666667, 0.11111111])"
            ]
          },
          "metadata": {},
          "execution_count": 14
        }
      ]
    },
    {
      "cell_type": "code",
      "source": [
        "#Sustitución por delante\n",
        "for i in range(10):\n",
        "  matrix = np.array([[10**(-2*(i+1)),1],\n",
        "                     [1,             1]])\n",
        "  b = [1 + (10**(-2**(i+1))), 2]\n",
        "  print(\"La solución para k=\", i+1, \"es: \", SustitucionDelante(matrix, b))\n",
        "\n",
        "print(\"\\n\")\n",
        "\n",
        "#Sustitución por atrás\n",
        "for i in range(10):\n",
        "  matrix = np.array([[10**(-2*(i+1)),1],\n",
        "                     [1,1]            ])\n",
        "  b = [1 + (10**(-2**(i+1))), 2]\n",
        "  print(\"La solución para k=\", i+1, \"es: \", SustitucionAtras(matrix, b))\n"
      ],
      "metadata": {
        "colab": {
          "base_uri": "https://localhost:8080/"
        },
        "id": "U_7SrFhzIWu0",
        "outputId": "1411ec77-abbb-4714-ce71-7310c2592bc9"
      },
      "execution_count": 16,
      "outputs": [
        {
          "output_type": "stream",
          "name": "stdout",
          "text": [
            "La solución para k= 1 es:  [101. -99.]\n",
            "La solución para k= 2 es:  [10001. -9999.]\n",
            "La solución para k= 3 es:  [1000000.01 -999998.01]\n",
            "La solución para k= 4 es:  [ 1.0000000e+08 -9.9999998e+07]\n",
            "La solución para k= 5 es:  [ 1.e+10 -1.e+10]\n",
            "La solución para k= 6 es:  [ 1.e+12 -1.e+12]\n",
            "La solución para k= 7 es:  [ 1.e+14 -1.e+14]\n",
            "La solución para k= 8 es:  [ 1.e+16 -1.e+16]\n",
            "La solución para k= 9 es:  [ 1.e+18 -1.e+18]\n",
            "La solución para k= 10 es:  [ 1.e+20 -1.e+20]\n",
            "\n",
            "\n",
            "La solución para k= 1 es:  [-99.   2.]\n",
            "La solución para k= 2 es:  [-9.999e+03  2.000e+00]\n",
            "La solución para k= 3 es:  [-9.9999999e+05  2.0000000e+00]\n",
            "La solución para k= 4 es:  [-1.e+08  2.e+00]\n",
            "La solución para k= 5 es:  [-1.e+10  2.e+00]\n",
            "La solución para k= 6 es:  [-1.e+12  2.e+00]\n",
            "La solución para k= 7 es:  [-1.e+14  2.e+00]\n",
            "La solución para k= 8 es:  [-1.e+16  2.e+00]\n",
            "La solución para k= 9 es:  [-1.e+18  2.e+00]\n",
            "La solución para k= 10 es:  [-1.e+20  2.e+00]\n"
          ]
        }
      ]
    },
    {
      "cell_type": "markdown",
      "source": [
        "Podemos observar que en el caso de sustitución adelante conforme k crece y epsiolon disminuye x_1 crece demasiado mientras que x_2 decrece, teniendo el mismo valor que x_1, pero negativo. Y con la sustitución por atrás x_1 decrece en gran medida mientras que x_2 se mantiene en 2. En ambos casos la solución computacional se aleja en gran medida de la solución real (x = [1,1]^t) conforme epsilon disminuye."
      ],
      "metadata": {
        "id": "bJ-CRK49MXz7"
      }
    }
  ]
}